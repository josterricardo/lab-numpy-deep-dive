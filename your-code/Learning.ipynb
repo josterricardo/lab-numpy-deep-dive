{
 "cells": [
  {
   "cell_type": "markdown",
   "metadata": {},
   "source": [
    "# Introduction to Numpy\n",
    "\n",
    "Lesson Goals\n",
    "\n",
    "    Learn about Numpy data structures.\n",
    "    Extract data from Numpy arrays.\n",
    "    Convert other Python data structures to Numpy arrays.\n",
    "    Perform basic mathematical functions on arrays and elements.\n",
    "\n",
    "Introduction\n",
    "\n",
    "Many of the libraries you will use to perform data analysis in Python, as well as many of the mathematical functions you'll use, will involve working with Numpy. Numpy (short for Numerical Python) is used for numeric computing and includes support for multi-dimensional arrays and matrices along with a variety of mathematical functions to apply to them. In this lesson, we will learn about Numpy's primary data structures and how to apply some basic math functions to them.\n",
    "Importing Numpy\n",
    "\n",
    "In order to use Numpy, you must first import it. It is common to also alias it to np using the as keyword so that you don't have to spell out \"numpy\" every time you want to call one of its methods. "
   ]
  },
  {
   "cell_type": "code",
   "execution_count": 2,
   "metadata": {},
   "outputs": [],
   "source": [
    "import numpy as np"
   ]
  },
  {
   "cell_type": "markdown",
   "metadata": {},
   "source": [
    "Once the library has been imported, it is ready to use.\n",
    "Numpy Arrays\n",
    "\n",
    "The basic data structures in Numpy are arrays, which can be used to represent tabular data. You can think of arrays as lists of lists, where all the elements of a list are of the same type (typically numeric since the reason you use Numpy is to do numeric computing). A matrix is just a two-dimensional array.\n",
    "\n",
    "The size of an array is the total number of elements in every list. The shape of an array is the size of the array along each dimension (e.g. number of rows and number of columns for a two-dimensional array). Let's create a two dimensional 10 x 4 array containing random numbers and calculate the shape and size of the array using the shape and size methods. "
   ]
  },
  {
   "cell_type": "code",
   "execution_count": 3,
   "metadata": {},
   "outputs": [
    {
     "name": "stdout",
     "output_type": "stream",
     "text": [
      "[[0.35605017 0.38524524 0.47072    0.49673435]\n",
      " [0.81828885 0.13301275 0.26637166 0.56445544]\n",
      " [0.02512704 0.64748827 0.29202    0.49860129]\n",
      " [0.09972849 0.43157566 0.76987646 0.7441905 ]\n",
      " [0.73459093 0.56794237 0.79688258 0.75622804]\n",
      " [0.7857226  0.6559837  0.49756514 0.54911577]\n",
      " [0.68263944 0.04843655 0.32599514 0.31388399]\n",
      " [0.46836477 0.03065619 0.1130949  0.28266974]\n",
      " [0.39260549 0.86730788 0.82815227 0.70594094]\n",
      " [0.03339563 0.55960254 0.0830973  0.5396749 ]]\n"
     ]
    }
   ],
   "source": [
    "a = np.random.random((10,4))\n",
    "print(a)"
   ]
  },
  {
   "cell_type": "code",
   "execution_count": 4,
   "metadata": {},
   "outputs": [
    {
     "name": "stdout",
     "output_type": "stream",
     "text": [
      "(10, 4)\n",
      "40\n"
     ]
    }
   ],
   "source": [
    "print(a.shape)\n",
    "print(a.size)"
   ]
  },
  {
   "cell_type": "markdown",
   "metadata": {},
   "source": [
    "As you can see, the array has a shape of 10 x 4 (just as we specified) and the total number of elements in the array is 40.\n",
    "\n",
    "Now that we have seen an example of a basic two-dimensional array (a matrix), let's learn about how creating arrays with more dimensions than two works in Numpy. Let's build a three-dimensional array of random numbers and see what that looks like."
   ]
  },
  {
   "cell_type": "code",
   "execution_count": 5,
   "metadata": {},
   "outputs": [
    {
     "name": "stdout",
     "output_type": "stream",
     "text": [
      "[[[0.73971971 0.01026711 0.49900375]\n",
      "  [0.03947863 0.03218962 0.51408865]]\n",
      "\n",
      " [[0.20802716 0.28796361 0.84686546]\n",
      "  [0.19614132 0.92077357 0.76703768]]\n",
      "\n",
      " [[0.36593393 0.30031274 0.98408585]\n",
      "  [0.02032803 0.19198159 0.46341594]]\n",
      "\n",
      " [[0.12761237 0.08935497 0.64080342]\n",
      "  [0.53055958 0.69374832 0.74316982]]\n",
      "\n",
      " [[0.47244215 0.41407323 0.07888855]\n",
      "  [0.0900746  0.02147194 0.74926884]]]\n"
     ]
    }
   ],
   "source": [
    "b = np.random.random((5,2,3))\n",
    "print(b)"
   ]
  },
  {
   "cell_type": "markdown",
   "metadata": {},
   "source": [
    "This created an array with five groups of 2 x 3 matrices. Let's see what happens if we pass four dimensions."
   ]
  },
  {
   "cell_type": "code",
   "execution_count": 6,
   "metadata": {},
   "outputs": [
    {
     "name": "stdout",
     "output_type": "stream",
     "text": [
      "[[[[0.68154854 0.18042147 0.40349528 0.76344208 0.6698664 ]\n",
      "   [0.18715723 0.61454416 0.95597369 0.47432605 0.49271977]\n",
      "   [0.08269307 0.54500014 0.35657123 0.91959349 0.63520896]\n",
      "   [0.11937398 0.85895277 0.24254396 0.59102125 0.74851417]]\n",
      "\n",
      "  [[0.7984734  0.27308116 0.81641581 0.5989713  0.99443571]\n",
      "   [0.36376529 0.60895682 0.60959037 0.01914435 0.64946944]\n",
      "   [0.20080742 0.16320944 0.51216232 0.26830048 0.52912079]\n",
      "   [0.50165579 0.38505582 0.57508256 0.14364222 0.86433787]]\n",
      "\n",
      "  [[0.4031412  0.48473825 0.18072352 0.02803713 0.27292662]\n",
      "   [0.04123018 0.02702388 0.7666448  0.47056765 0.14296077]\n",
      "   [0.19457347 0.63396627 0.36959045 0.98027551 0.41443794]\n",
      "   [0.84084184 0.34260117 0.17393249 0.86259695 0.5532183 ]]]\n",
      "\n",
      "\n",
      " [[[0.95624444 0.07218699 0.40424841 0.33295088 0.44720556]\n",
      "   [0.91008062 0.22556408 0.38317468 0.94615705 0.1711044 ]\n",
      "   [0.88031367 0.80616281 0.17462107 0.87927019 0.68453916]\n",
      "   [0.82868062 0.25749547 0.66842532 0.18192569 0.2299615 ]]\n",
      "\n",
      "  [[0.85875292 0.57819435 0.34583701 0.81605547 0.86759854]\n",
      "   [0.80934662 0.09790662 0.00545457 0.4197933  0.94702986]\n",
      "   [0.09368234 0.64323366 0.51786829 0.93080451 0.94224146]\n",
      "   [0.244768   0.77660139 0.1789344  0.49952105 0.38679169]]\n",
      "\n",
      "  [[0.08836432 0.85299552 0.8615133  0.77533004 0.44145045]\n",
      "   [0.35664102 0.52750373 0.87776018 0.87948241 0.1813796 ]\n",
      "   [0.90009975 0.20159772 0.88152728 0.32436907 0.57563279]\n",
      "   [0.65082616 0.64754377 0.38037653 0.0793546  0.46142596]]]]\n"
     ]
    }
   ],
   "source": [
    "c = np.random.random((2,3,4,5))\n",
    "print(c)"
   ]
  },
  {
   "cell_type": "markdown",
   "metadata": {},
   "source": [
    "This time, we got two groups of three 4 x 5 matrices.\n",
    "\n",
    "\n",
    "# Extracting Data from Arrays\n",
    "\n",
    "Extracting elements from arrays works just like it does for other Python data structures. We just need to reference the indexes of the values we want to extract. Below are some examples of how to reference specific rows, columns, and values in a two dimensional array."
   ]
  },
  {
   "cell_type": "code",
   "execution_count": 7,
   "metadata": {},
   "outputs": [
    {
     "name": "stdout",
     "output_type": "stream",
     "text": [
      "[[0.35605017 0.38524524 0.47072    0.49673435]\n",
      " [0.81828885 0.13301275 0.26637166 0.56445544]\n",
      " [0.02512704 0.64748827 0.29202    0.49860129]\n",
      " [0.09972849 0.43157566 0.76987646 0.7441905 ]\n",
      " [0.73459093 0.56794237 0.79688258 0.75622804]\n",
      " [0.7857226  0.6559837  0.49756514 0.54911577]\n",
      " [0.68263944 0.04843655 0.32599514 0.31388399]\n",
      " [0.46836477 0.03065619 0.1130949  0.28266974]\n",
      " [0.39260549 0.86730788 0.82815227 0.70594094]\n",
      " [0.03339563 0.55960254 0.0830973  0.5396749 ]]\n",
      "[0.35605017 0.38524524 0.47072    0.49673435]\n"
     ]
    }
   ],
   "source": [
    "# First row of matrix a\n",
    "print(a)\n",
    "print(a[0])"
   ]
  },
  {
   "cell_type": "code",
   "execution_count": 8,
   "metadata": {},
   "outputs": [
    {
     "name": "stdout",
     "output_type": "stream",
     "text": [
      "[0.35605017 0.81828885 0.02512704 0.09972849 0.73459093 0.7857226\n",
      " 0.68263944 0.46836477 0.39260549 0.03339563]\n"
     ]
    }
   ],
   "source": [
    "# First column of matrix a\n",
    "print(a[:,0])"
   ]
  },
  {
   "cell_type": "code",
   "execution_count": 10,
   "metadata": {},
   "outputs": [
    {
     "name": "stdout",
     "output_type": "stream",
     "text": [
      "0.7968825805292168\n"
     ]
    }
   ],
   "source": [
    "# Value in the fifth row and third column of matrix a\n",
    "print(a[4,2])"
   ]
  },
  {
   "cell_type": "markdown",
   "metadata": {},
   "source": [
    "What about arrays that have more than two dimensions? You just pass a list of indexes for the values you want, and it will return the corresponding dimensions or values."
   ]
  },
  {
   "cell_type": "code",
   "execution_count": 11,
   "metadata": {},
   "outputs": [
    {
     "name": "stdout",
     "output_type": "stream",
     "text": [
      "[[[0.68154854 0.18042147 0.40349528 0.76344208 0.6698664 ]\n",
      "  [0.18715723 0.61454416 0.95597369 0.47432605 0.49271977]\n",
      "  [0.08269307 0.54500014 0.35657123 0.91959349 0.63520896]\n",
      "  [0.11937398 0.85895277 0.24254396 0.59102125 0.74851417]]\n",
      "\n",
      " [[0.7984734  0.27308116 0.81641581 0.5989713  0.99443571]\n",
      "  [0.36376529 0.60895682 0.60959037 0.01914435 0.64946944]\n",
      "  [0.20080742 0.16320944 0.51216232 0.26830048 0.52912079]\n",
      "  [0.50165579 0.38505582 0.57508256 0.14364222 0.86433787]]\n",
      "\n",
      " [[0.4031412  0.48473825 0.18072352 0.02803713 0.27292662]\n",
      "  [0.04123018 0.02702388 0.7666448  0.47056765 0.14296077]\n",
      "  [0.19457347 0.63396627 0.36959045 0.98027551 0.41443794]\n",
      "  [0.84084184 0.34260117 0.17393249 0.86259695 0.5532183 ]]]\n"
     ]
    }
   ],
   "source": [
    "# First group of array c\n",
    "print(c[0])"
   ]
  },
  {
   "cell_type": "code",
   "execution_count": 16,
   "metadata": {},
   "outputs": [
    {
     "name": "stdout",
     "output_type": "stream",
     "text": [
      "[[0.7984734  0.27308116 0.81641581 0.5989713  0.99443571]\n",
      " [0.36376529 0.60895682 0.60959037 0.01914435 0.64946944]\n",
      " [0.20080742 0.16320944 0.51216232 0.26830048 0.52912079]\n",
      " [0.50165579 0.38505582 0.57508256 0.14364222 0.86433787]]\n"
     ]
    }
   ],
   "source": [
    "# Second subgroup of the first group\n",
    "print(c[0,1])"
   ]
  },
  {
   "cell_type": "code",
   "execution_count": 18,
   "metadata": {},
   "outputs": [
    {
     "name": "stdout",
     "output_type": "stream",
     "text": [
      "[0.20080742 0.16320944 0.51216232 0.26830048 0.52912079]\n"
     ]
    }
   ],
   "source": [
    "# Third row of the second subgroup\n",
    "print(c[0,1,2])"
   ]
  },
  {
   "cell_type": "code",
   "execution_count": 19,
   "metadata": {},
   "outputs": [
    {
     "name": "stdout",
     "output_type": "stream",
     "text": [
      "[0.5989713  0.01914435 0.26830048 0.14364222]\n"
     ]
    }
   ],
   "source": [
    "# Fourth column of the second subgroup\n",
    "print(c[0,1,:,3])"
   ]
  },
  {
   "cell_type": "code",
   "execution_count": 21,
   "metadata": {},
   "outputs": [
    {
     "name": "stdout",
     "output_type": "stream",
     "text": [
      "0.26830047882736874\n"
     ]
    }
   ],
   "source": [
    "# Value in the third row and fourth column of the second subgroup\n",
    "print(c[0,1,2,3])"
   ]
  },
  {
   "cell_type": "markdown",
   "metadata": {},
   "source": [
    "# Converting Other Data Structures to Arrays\n",
    "\n",
    "If you have data in another type of data structure and you would like to convert it to an array so that you can take advantage of Numpy's mathematical functions, you can convert them using the array() method as follows. "
   ]
  },
  {
   "cell_type": "code",
   "execution_count": 22,
   "metadata": {},
   "outputs": [
    {
     "name": "stdout",
     "output_type": "stream",
     "text": [
      "[[1 2 3]\n",
      " [4 5 6]\n",
      " [7 8 9]]\n"
     ]
    }
   ],
   "source": [
    "lst_lst = [[1,2,3],[4,5,6],[7,8,9]]\n",
    "d = np.array(lst_lst)\n",
    "print(d)"
   ]
  },
  {
   "cell_type": "markdown",
   "metadata": {},
   "source": [
    "This works the same way whether you have a list of lists, a list of tuples, a tuple of lists, or a tuple of tuples.\n",
    "\n",
    "\n",
    "\n",
    "\n",
    "# Numpy Math Functions\n",
    "\n",
    "Now that we know how to create and navigate arrays, let's take a look at how to perform mathematical calculations on them.\n",
    "\n",
    "One of the most common (and useful) functions is np.sum, which lets you obtain the sum of any elements you select from an array. "
   ]
  },
  {
   "cell_type": "code",
   "execution_count": 23,
   "metadata": {},
   "outputs": [
    {
     "name": "stdout",
     "output_type": "stream",
     "text": [
      "18.619034960036906\n"
     ]
    }
   ],
   "source": [
    "# Sum of all elements in matrix a\n",
    "print(np.sum(a))"
   ]
  },
  {
   "cell_type": "code",
   "execution_count": 25,
   "metadata": {},
   "outputs": [
    {
     "name": "stdout",
     "output_type": "stream",
     "text": [
      "[4.3965134  4.32725115 4.44377544 5.45149497]\n"
     ]
    }
   ],
   "source": [
    "# Sum of each column in matrix a\n",
    "print(np.sum(a, axis=0))"
   ]
  },
  {
   "cell_type": "code",
   "execution_count": 26,
   "metadata": {},
   "outputs": [
    {
     "name": "stdout",
     "output_type": "stream",
     "text": [
      "[1.70874976 1.7821287  1.4632366  2.04537112 2.85564392 2.48838721\n",
      " 1.37095511 0.89478559 2.79400657 1.21577037]\n"
     ]
    }
   ],
   "source": [
    "# Sum of each row in matrix a\n",
    "print(np.sum(a, axis=1))"
   ]
  },
  {
   "cell_type": "code",
   "execution_count": 27,
   "metadata": {},
   "outputs": [
    {
     "data": {
      "text/plain": [
       "5.061556275675805"
      ]
     },
     "execution_count": 27,
     "metadata": {},
     "output_type": "execute_result"
    }
   ],
   "source": [
    "# Sum of all the elements in the first two groups of array b\n",
    "np.sum(b[:2])"
   ]
  },
  {
   "cell_type": "markdown",
   "metadata": {},
   "source": [
    "The np.mean function works the same way and is also very useful. "
   ]
  },
  {
   "cell_type": "code",
   "execution_count": 28,
   "metadata": {},
   "outputs": [
    {
     "name": "stdout",
     "output_type": "stream",
     "text": [
      "0.46547587400092266\n"
     ]
    }
   ],
   "source": [
    "# Mean of all elements in matrix a\n",
    "print(np.mean(a))"
   ]
  },
  {
   "cell_type": "code",
   "execution_count": 29,
   "metadata": {},
   "outputs": [
    {
     "name": "stdout",
     "output_type": "stream",
     "text": [
      "[0.43965134 0.43272511 0.44437754 0.5451495 ]\n"
     ]
    }
   ],
   "source": [
    "# Mean of each column in matrix a\n",
    "print(np.mean(a, axis=0))"
   ]
  },
  {
   "cell_type": "code",
   "execution_count": 30,
   "metadata": {},
   "outputs": [
    {
     "name": "stdout",
     "output_type": "stream",
     "text": [
      "[0.42718744 0.44553218 0.36580915 0.51134278 0.71391098 0.6220968\n",
      " 0.34273878 0.2236964  0.69850164 0.30394259]\n"
     ]
    }
   ],
   "source": [
    "# Mean of each row in matrix a\n",
    "print(np.mean(a, axis=1))"
   ]
  },
  {
   "cell_type": "code",
   "execution_count": 31,
   "metadata": {},
   "outputs": [
    {
     "data": {
      "text/plain": [
       "0.4217963563063171"
      ]
     },
     "execution_count": 31,
     "metadata": {},
     "output_type": "execute_result"
    }
   ],
   "source": [
    "# Mean of all the elements in the first two groups of array b\n",
    "np.mean(b[:2])"
   ]
  },
  {
   "cell_type": "markdown",
   "metadata": {},
   "source": [
    "In addition to letting you perform calculations on individual arrays, Numpy also lets you perform calculations between arrays. For example, let's select two of the subarrays from array c to illustrate how this works."
   ]
  },
  {
   "cell_type": "code",
   "execution_count": 32,
   "metadata": {},
   "outputs": [
    {
     "name": "stdout",
     "output_type": "stream",
     "text": [
      "[[0.68154854 0.18042147 0.40349528 0.76344208 0.6698664 ]\n",
      " [0.18715723 0.61454416 0.95597369 0.47432605 0.49271977]\n",
      " [0.08269307 0.54500014 0.35657123 0.91959349 0.63520896]\n",
      " [0.11937398 0.85895277 0.24254396 0.59102125 0.74851417]]\n"
     ]
    }
   ],
   "source": [
    "x = c[0,0]\n",
    "print(x)"
   ]
  },
  {
   "cell_type": "code",
   "execution_count": 33,
   "metadata": {},
   "outputs": [
    {
     "name": "stdout",
     "output_type": "stream",
     "text": [
      "[[0.7984734  0.27308116 0.81641581 0.5989713  0.99443571]\n",
      " [0.36376529 0.60895682 0.60959037 0.01914435 0.64946944]\n",
      " [0.20080742 0.16320944 0.51216232 0.26830048 0.52912079]\n",
      " [0.50165579 0.38505582 0.57508256 0.14364222 0.86433787]]\n"
     ]
    }
   ],
   "source": [
    "y = c[0,1]\n",
    "print(y)"
   ]
  },
  {
   "cell_type": "markdown",
   "metadata": {},
   "source": [
    "We can now add, subtract, multiply, and divide the two arrays."
   ]
  },
  {
   "cell_type": "code",
   "execution_count": 34,
   "metadata": {},
   "outputs": [
    {
     "name": "stdout",
     "output_type": "stream",
     "text": [
      "[[1.48002194 0.45350263 1.21991108 1.36241337 1.6643021 ]\n",
      " [0.55092253 1.22350098 1.56556406 0.49347041 1.14218921]\n",
      " [0.28350048 0.70820958 0.86873355 1.18789397 1.16432976]\n",
      " [0.62102977 1.24400859 0.81762651 0.73466347 1.61285204]]\n"
     ]
    }
   ],
   "source": [
    "# Add elements of x and y together\n",
    "print(np.add(x, y))"
   ]
  },
  {
   "cell_type": "code",
   "execution_count": 35,
   "metadata": {},
   "outputs": [
    {
     "name": "stdout",
     "output_type": "stream",
     "text": [
      "[[ 0.11692485  0.09265968  0.41292053 -0.16447078  0.32456931]\n",
      " [ 0.17660806 -0.00558734 -0.34638332 -0.4551817   0.15674967]\n",
      " [ 0.11811435 -0.38179071  0.15559109 -0.65129301 -0.10608817]\n",
      " [ 0.38228181 -0.47389695  0.3325386  -0.44737903  0.1158237 ]]\n"
     ]
    }
   ],
   "source": [
    "# Subtract elements of x from elements of y\n",
    "print(np.subtract(y, x))"
   ]
  },
  {
   "cell_type": "code",
   "execution_count": 36,
   "metadata": {},
   "outputs": [
    {
     "name": "stdout",
     "output_type": "stream",
     "text": [
      "[[0.54419838 0.0492697  0.32941992 0.45727989 0.66613906]\n",
      " [0.06808131 0.37423085 0.58275235 0.00908067 0.32000643]\n",
      " [0.01660538 0.08894917 0.18262235 0.24672737 0.33610227]\n",
      " [0.05988465 0.33074476 0.1394828  0.0848956  0.64696914]]\n"
     ]
    }
   ],
   "source": [
    "# Multiply elements of x and y together\n",
    "print(np.multiply(x, y))"
   ]
  },
  {
   "cell_type": "code",
   "execution_count": 37,
   "metadata": {},
   "outputs": [
    {
     "name": "stdout",
     "output_type": "stream",
     "text": [
      "[[1.17155763 1.51357348 2.02335902 0.78456679 1.48452843]\n",
      " [1.94363468 0.99090815 0.63766438 0.04036117 1.31813147]\n",
      " [2.42834655 0.29946678 1.43635346 0.29175987 0.83298697]\n",
      " [4.20238812 0.4482852  2.37104469 0.2430407  1.15473815]]\n"
     ]
    }
   ],
   "source": [
    "# Divide elements of y by elements of x\n",
    "print(np.divide(y, x))"
   ]
  },
  {
   "cell_type": "markdown",
   "metadata": {},
   "source": [
    "This is only the tip of the iceberg. Numpy has many more functions, which you can and should explore. You can read more about them in the [Numpy documentation](https://docs.scipy.org/doc/numpy-1.13.0/reference/routines.math.html). "
   ]
  },
  {
   "cell_type": "code",
   "execution_count": null,
   "metadata": {},
   "outputs": [],
   "source": []
  }
 ],
 "metadata": {
  "kernelspec": {
   "display_name": "Python 3",
   "language": "python",
   "name": "python3"
  },
  "language_info": {
   "codemirror_mode": {
    "name": "ipython",
    "version": 3
   },
   "file_extension": ".py",
   "mimetype": "text/x-python",
   "name": "python",
   "nbconvert_exporter": "python",
   "pygments_lexer": "ipython3",
   "version": "3.8.8"
  }
 },
 "nbformat": 4,
 "nbformat_minor": 2
}
